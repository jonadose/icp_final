{
 "cells": [
  {
   "cell_type": "code",
   "execution_count": null,
   "metadata": {},
   "outputs": [],
   "source": [
    "import dash\n",
    "import dash_bootstrap_components as dbc\n",
    "import dash_core_components as dcc\n",
    "import dash_html_components as html\n",
    "import dash_table\n",
    "import pandas as pd\n",
    "import plotly.graph_objs as go\n",
    "import plotly.express as px\n",
    "from dash.dependencies import Input, Output\n",
    "from sklearn import datasets\n",
    "from sklearn.cluster import KMeans\n",
    "from pages import demo1_datatable, demo2_predmain"
   ]
  },
  {
   "cell_type": "code",
   "execution_count": null,
   "metadata": {},
   "outputs": [],
   "source": [
    "BS = \"https://stackpath.bootstrapcdn.com/bootswatch/4.5.2/flatly/bootstrap.min.css\"\n",
    "app = dash.Dash(external_stylesheets=[BS])"
   ]
  },
  {
   "cell_type": "code",
   "execution_count": null,
   "metadata": {},
   "outputs": [],
   "source": [
    "# list seperate sub \n",
    "subpages = [\n",
    "    (\"/demo-datatable\", demo1_datatable),\n",
    "    (\"/demo-pm\", demo2_predmain),\n",
    "]"
   ]
  },
  {
   "cell_type": "code",
   "execution_count": null,
   "metadata": {},
   "outputs": [],
   "source": [
    "\n",
    "df = pd.read_csv('screwdriverstatisticsII.csv', sep='\\s+', delimiter=';', header=0, parse_dates=True, squeeze=True, decimal=\",\")\n",
    "df.head(100)\n",
    "df.columns"
   ]
  },
  {
   "cell_type": "code",
   "execution_count": null,
   "metadata": {},
   "outputs": [],
   "source": [
    "## Creating very simple graph here \n",
    "fig = px.scatter(\n",
    "    df,\n",
    "    x='RA',\n",
    "    y='T1',\n",
    "    color='UnitPartNo',\n",
    "    marginal_x=\"violin\",\n",
    "    marginal_y=\"violin\",\n",
    "    template=\"simple_white\"\n",
    "    #facet_col='Type',\n",
    "    #template='presentation',\n",
    "    )\n",
    "#fig.update_traces(mode='lines+markers')"
   ]
  },
  {
   "cell_type": "code",
   "execution_count": null,
   "metadata": {},
   "outputs": [],
   "source": [
    "fig2 = px.scatter(\n",
    "    df,\n",
    "    x='RA',\n",
    "    y='T2',\n",
    "    color='UnitPartNo',\n",
    "    marginal_x=\"violin\",\n",
    "    marginal_y=\"violin\",\n",
    "    template=\"simple_white\"\n",
    "    #facet_col='Type',\n",
    "    #template='presentation',\n",
    "    )\n",
    "#fig.update_traces(mode='lines+markers')"
   ]
  },
  {
   "cell_type": "code",
   "execution_count": null,
   "metadata": {},
   "outputs": [],
   "source": [
    "df_small = df[['UnitPartNo', 'UnitSnNo', 'Seq', 'PN', 'PT', 'RC', 'ScrewdriverId']].copy()\n",
    "df_small"
   ]
  },
  {
   "cell_type": "markdown",
   "metadata": {},
   "source": [
    "fig3 = px.parallel_coordinates(df, color=\"PN\", labels={\"UnitPartNo\": \"Product Types\",\n",
    "                  \"Seq\": \"Sequence - Screw Number\", \"PN\": \"Program number\",\n",
    "                  \"ScrewdriverId\": \"Screwdriver ID\", \"RC\": \"Result Code\", },\n",
    "                    color_continuous_scale=px.colors.diverging.Tealrose, color_continuous_midpoint=2)\n",
    "fig3.show()"
   ]
  },
  {
   "cell_type": "code",
   "execution_count": null,
   "metadata": {},
   "outputs": [],
   "source": [
    "fig3 = px.parallel_coordinates(df_small, color=\"PN\", color_continuous_scale=px.colors.diverging.Tealrose, color_continuous_midpoint=2)\n",
    "fig3.show()\n"
   ]
  },
  {
   "cell_type": "code",
   "execution_count": null,
   "metadata": {},
   "outputs": [],
   "source": [
    "\n",
    "fig4 = px.parallel_categories(df, color=\"Seq\", color_continuous_scale=px.colors.sequential.Inferno)\n",
    "fig4.show()"
   ]
  },
  {
   "cell_type": "code",
   "execution_count": null,
   "metadata": {},
   "outputs": [],
   "source": [
    "fig5 = px.line(df, x = 'TimeStamp', y = 'T1', color = 'UnitPartNo')\n",
    "fig5.show()"
   ]
  },
  {
   "cell_type": "code",
   "execution_count": null,
   "metadata": {},
   "outputs": [],
   "source": [
    "fig6 = px.line(df, x = 'TimeStamp', y = 'ET', color = 'UnitPartNo')\n",
    "fig6.show()"
   ]
  },
  {
   "cell_type": "code",
   "execution_count": null,
   "metadata": {},
   "outputs": [],
   "source": [
    "fig7 = px.scatter(df, x = 'TimeStamp', y = 'PN', color = 'UnitPartNo')\n",
    "fig7.show()"
   ]
  },
  {
   "cell_type": "code",
   "execution_count": null,
   "metadata": {},
   "outputs": [],
   "source": [
    "# Builidng the data table \n",
    "the_datatable = dash_table.DataTable(id='table1', \n",
    "columns=[{\"name\": i, \"id\": i } for i in df.columns], \n",
    "data=df.to_dict('records'), \n",
    ")"
   ]
  },
  {
   "cell_type": "code",
   "execution_count": null,
   "metadata": {},
   "outputs": [],
   "source": []
  },
  {
   "cell_type": "code",
   "execution_count": null,
   "metadata": {},
   "outputs": [],
   "source": [
    "controls = dbc.Card(\n",
    "    [\n",
    "        dbc.FormGroup(\n",
    "            [\n",
    "                dbc.Label(\"X variable\"),\n",
    "                dcc.Dropdown(\n",
    "                    id=\"x-variable\",\n",
    "                    options=[\n",
    "                        {\"label\": col, \"value\": col} for col in df.columns\n",
    "                    ],\n",
    "                    value=\"RA\",\n",
    "                ),\n",
    "            ]\n",
    "        ),\n",
    "        dbc.FormGroup(\n",
    "            [\n",
    "                dbc.Label(\"Y variable\"),\n",
    "                dcc.Dropdown(\n",
    "                    id=\"y-variable\",\n",
    "                    options=[\n",
    "                        {\"label\": col, \"value\": col} for col in df.columns\n",
    "                    ],\n",
    "                    value=\"T1\",\n",
    "                ),\n",
    "            ]\n",
    "        ),\n",
    "        dbc.FormGroup(\n",
    "            [\n",
    "                dbc.Label(\"Cluster count\"),\n",
    "                dbc.Input(id=\"cluster-count\", type=\"number\", value=3),\n",
    "            ]\n",
    "        ),\n",
    "    ],\n",
    "    body=True,\n",
    ")\n"
   ]
  },
  {
   "cell_type": "code",
   "execution_count": null,
   "metadata": {},
   "outputs": [],
   "source": [
    "opts = [ dict(label=t, value=t)\n",
    "         for t in df['UnitPartNo'].unique() ]"
   ]
  },
  {
   "cell_type": "code",
   "execution_count": null,
   "metadata": {},
   "outputs": [],
   "source": [
    "nav = dbc.Nav(\n",
    "    [\n",
    "        dbc.NavItem(dbc.NavLink(\"Visual Graphs\", active=True, href=\"1\")),\n",
    "        dbc.NavItem(dbc.NavLink(\"Entire Table\", href=\"2\",)),\n",
    "        dbc.NavItem(dbc.NavLink(\"Predictive Maintenance\", href=\"3\")), \n",
    "        dbc.NavItem(dbc.NavLink(\"GitHub Repo\", href=\"https://github.com/\")),\n",
    "        #dbc.NavItem(dbc.NavLink(\"Disabled\", disabled=True, href=\"4\")),\n",
    "    ],\n",
    "    pills=True,\n",
    "    horizontal=\"center\", \n",
    ")\n",
    "@app.callback(\n",
    "    Output(\"button-clicks\", \"children\"), [Input(\"button-link\", \"n_clicks\")]\n",
    ")\n",
    "def show_clicks(n):\n",
    "    return \"Button clicked {} times\".format(n)"
   ]
  },
  {
   "cell_type": "code",
   "execution_count": null,
   "metadata": {},
   "outputs": [],
   "source": [
    "## App Layout"
   ]
  },
  {
   "cell_type": "code",
   "execution_count": null,
   "metadata": {},
   "outputs": [],
   "source": [
    "app.layout = dbc.Container(\n",
    "    [\n",
    "        nav,\n",
    "        html.H1(\"Interactive Screwdriver Statistics\"),\n",
    "        html.Hr(),\n",
    "        dcc.Markdown('''\n",
    "                ### Clustering Torque Values against Result Angle\n",
    "                \n",
    "                Visualizes outliers both for torque values under/over- performing as well as Result Angles overshooting.\n",
    "        '''),\n",
    "        dbc.Row(\n",
    "            [\n",
    "                dcc.Graph(figure=fig), \n",
    "                dcc.Graph(figure=fig2),\n",
    "                dcc.Dropdown(id='select-type',\n",
    "                            options=opts, \n",
    "                            multi=True, \n",
    "                            value='Total'), \n",
    "               # dcc.Graph(id='graph')\n",
    "            ], \n",
    "            align=\"center\", \n",
    "        ),\n",
    "        dcc.Markdown('''\n",
    "                ### Screwdriver and Program Usage\n",
    "        '''),\n",
    "         dbc.Row(\n",
    "            [\n",
    "                dcc.Graph(figure=fig3),\n",
    "                dcc.Graph(figure=fig7), \n",
    "                # the_datatable, # havent figured out yet how to limit table to top 10 or something\n",
    "                #dcc.Graph(figure=fig4),\n",
    "               \n",
    "            ], \n",
    "            align=\"center\", \n",
    "        ),\n",
    "        dcc.Markdown('''\n",
    "                ### Timeseries Data\n",
    "        '''),\n",
    "         dbc.Row(\n",
    "            [\n",
    "                dcc.Graph(figure=fig5),\n",
    "                dcc.Graph(figure=fig6), \n",
    "                # the_datatable, # havent figured out yet how to limit table to top 10 or something\n",
    "                #dcc.Graph(figure=fig4),\n",
    "               \n",
    "            ], \n",
    "            align=\"center\", \n",
    "        ),\n",
    "        dcc.Markdown('''\n",
    "                ### Custom Clustering with all features from the dataset\n",
    "                \n",
    "                Select two values in the dropdown menu to create a custom interactive scatterplot. (Not all values are suited for clustering)\n",
    "        '''),\n",
    "        dbc.Row(\n",
    "            [\n",
    "                dbc.Col(controls, md=4),\n",
    "                dbc.Col(dcc.Graph(id=\"cluster-graph\"), md=8),\n",
    "            ],\n",
    "            align=\"center\",\n",
    "        ),\n",
    "\n",
    "    ],\n",
    "    fluid=True,\n",
    ")"
   ]
  },
  {
   "cell_type": "code",
   "execution_count": null,
   "metadata": {},
   "outputs": [],
   "source": [
    "# Subpages callbacks\n",
    "# Set callbacks for each page\n",
    "for (_, page) in subpages:\n",
    "    page.set_callbacks(app)\n",
    "\n",
    "def display_page(pathname):\n",
    "    \"\"\"Render the newly selected page when the URL changes\"\"\"\n",
    "\n",
    "    if pathname == \"/\":\n",
    "        return main_layout\n",
    "\n",
    "    page = dict(subpages)[pathname]\n",
    "\n",
    "    return html.Div(\n",
    "        [\n",
    "            # For subpages, add a few fixed elements at the top of the page\n",
    "            dcc.Link(\"< Back to main page\", href=\"/\"),\n",
    "            html.H1(page.title),\n",
    "            html.P(page.description),\n",
    "            # Then, the actual subpage content\n",
    "            page.layout,\n",
    "        ]\n",
    "    )"
   ]
  },
  {
   "cell_type": "code",
   "execution_count": null,
   "metadata": {},
   "outputs": [],
   "source": [
    "##Callback "
   ]
  },
  {
   "cell_type": "code",
   "execution_count": null,
   "metadata": {},
   "outputs": [],
   "source": [
    "@app.callback(\n",
    "    Output(\"cluster-graph\", \"figure\"),\n",
    "    [\n",
    "        Input(\"x-variable\", \"value\"),\n",
    "        Input(\"y-variable\", \"value\"),\n",
    "        Input(\"cluster-count\", \"value\"),\n",
    "    ],\n",
    "    \n",
    ")\n",
    "##Functions\n",
    "def make_graph(x, y, n_clusters):\n",
    "    # minimal input validation, make sure there's at least one cluster\n",
    "    km = KMeans(n_clusters=max(n_clusters, 1))\n",
    "    df = df.loc[:, [x, y]]\n",
    "    km.fit(df.values)\n",
    "    df[\"cluster\"] = km.labels_\n",
    "\n",
    "    centers = km.cluster_centers_\n",
    "\n",
    "    data = [\n",
    "        go.Scatter(\n",
    "            x=df.loc[df.cluster == c, x],\n",
    "            y=df.loc[df.cluster == c, y],\n",
    "            mode=\"markers\",\n",
    "            marker={\"size\": 8},\n",
    "            name=\"Cluster {}\".format(c),\n",
    "        )\n",
    "        for c in range(n_clusters)\n",
    "    ]\n",
    "\n",
    "    data.append(\n",
    "        go.Scatter(\n",
    "            x=centers[:, 0],\n",
    "            y=centers[:, 1],\n",
    "            mode=\"markers\",\n",
    "            marker={\"color\": \"#000\", \"size\": 12, \"symbol\": \"diamond\"},\n",
    "            name=\"Cluster centers\",\n",
    "        )\n",
    "    )\n",
    "\n",
    "    layout = {\"xaxis\": {\"title\": x}, \"yaxis\": {\"title\": y}}\n",
    "\n",
    "    return go.Figure(data=data, layout=layout)\n",
    "\n",
    "def make_figure(select_type):\n",
    "    select_type = select_type\n",
    "    #if isinstance(select_type, list)\n",
    "    # else [select_type]\n",
    "    fig = px.line(\n",
    "        df.loc[df['UnitPatNo'].isin(select_type)],\n",
    "        x='Year',\n",
    "        y='Homicides',\n",
    "        color='Type',\n",
    "        line_dash='Type',\n",
    "        template='presentation',\n",
    "        category_orders={'Type': ['Total']},\n",
    "        )\n",
    "    return fig.update_traces(mode='lines+markers')\n",
    "\n",
    "\n",
    "# make sure that x and y values can't be the same variable\n",
    "def filter_options(v):\n",
    "    \"\"\"Disable option v\"\"\"\n",
    "    return [\n",
    "        {\"label\": col, \"value\": col, \"disabled\": col == v}\n",
    "        for col in df.columns\n",
    "    ]\n",
    "\n",
    "# functionality is the same for both dropdowns, so we reuse filter_options\n",
    "app.callback(Output(\"x-variable\", \"options\"), [Input(\"y-variable\", \"value\")])(filter_options)\n",
    "\n",
    "app.callback(\n",
    "    Output(\"y-variable\", \"options\"),\n",
    "    [Input(\"x-variable\", \"value\")\n",
    "    ])(filter_options\n",
    ")"
   ]
  },
  {
   "cell_type": "code",
   "execution_count": null,
   "metadata": {},
   "outputs": [],
   "source": [
    "if __name__ == \"__main__\":\n",
    "    app.run_server(debug=False, port=8000)"
   ]
  },
  {
   "cell_type": "code",
   "execution_count": null,
   "metadata": {},
   "outputs": [],
   "source": []
  },
  {
   "cell_type": "code",
   "execution_count": null,
   "metadata": {},
   "outputs": [],
   "source": []
  }
 ],
 "metadata": {
  "kernelspec": {
   "display_name": "icp",
   "language": "python",
   "name": "icp"
  },
  "language_info": {
   "codemirror_mode": {
    "name": "ipython",
    "version": 3
   },
   "file_extension": ".py",
   "mimetype": "text/x-python",
   "name": "python",
   "nbconvert_exporter": "python",
   "pygments_lexer": "ipython3",
   "version": "3.7.9"
  }
 },
 "nbformat": 4,
 "nbformat_minor": 4
}
